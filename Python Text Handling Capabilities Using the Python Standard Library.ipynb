{
 "cells": [
  {
   "cell_type": "markdown",
   "metadata": {},
   "source": [
    "The following code shows Python's text handling capabilities \n",
    "such as formatting and regular expressions. "
   ]
  },
  {
   "cell_type": "code",
   "execution_count": 3,
   "metadata": {},
   "outputs": [],
   "source": [
    "import string, textwrap, re, difflib\n",
    "import inspect"
   ]
  },
  {
   "cell_type": "code",
   "execution_count": 3,
   "metadata": {},
   "outputs": [
    {
     "name": "stdout",
     "output_type": "stream",
     "text": [
      "TEMPLATE:  \n",
      "The country of Kenya has the capital Nairobi while the \n",
      "country of Uganda has the capital Kampala, while the capital of Ethiopia is Addis Ababa.\n",
      "Egypt's capital is Cairo but its ancient capital was Memphis.\n",
      "China's administrative capital is Beijing but the twin ancient capitals were\n",
      "['Luoyang', 'Changan'] and ['Luoyang', 'Changan'].\n",
      "The capital of Turkey is Istanbul while the capital of Greece is ${Greece}.\n",
      "\n"
     ]
    }
   ],
   "source": [
    "values = {'Kenya':'Nairobi', 'Uganda':'Kampala', 'Tanzania':'Dodoma',\n",
    "          'Ethiopia':'Addis Ababa','China':'Beijing','Egypt':'Cairo',\n",
    "          'AncientEgypt':'Memphis','AncientChina':['Luoyang','Changan'],\n",
    "          'Turkey':'Istanbul'}\n",
    "\n",
    "someString = string.Template(\"\"\"\n",
    "The country of Kenya has the capital $Kenya while the \n",
    "country of Uganda has the capital $Uganda, while the capital of Ethiopia is $Ethiopia.\n",
    "Egypt's capital is ${Egypt} but its ancient capital was ${AncientEgypt}.\n",
    "China's administrative capital is ${China} but the twin ancient capitals were\n",
    "${AncientChina} and ${AncientChina}.\n",
    "The capital of Turkey is ${Turkey} while the capital of Greece is ${Greece}.\n",
    "\"\"\")\n",
    "\n",
    "\n",
    "\n",
    "print('TEMPLATE: ', someString.safe_substitute(values))"
   ]
  },
  {
   "cell_type": "code",
   "execution_count": 4,
   "metadata": {},
   "outputs": [
    {
     "name": "stdout",
     "output_type": "stream",
     "text": [
      "ascii_letters ==> abcdefghijklmnopqrstuvwxyzABCDEFGHIJKLMNOPQRSTUVWXYZ\n",
      "ascii_lowercase ==> abcdefghijklmnopqrstuvwxyz\n",
      "ascii_uppercase ==> ABCDEFGHIJKLMNOPQRSTUVWXYZ\n",
      "digits ==> 0123456789\n",
      "hexdigits ==> 0123456789abcdefABCDEF\n",
      "octdigits ==> 01234567\n",
      "printable ==> 0123456789abcdefghijklmnopqrstuvwxyzABCDEFGHIJKLMNOPQRSTUVWXYZ!\"#$%&'()*+,-./:;<=>?@[\\]^_`{|}~ \t\n",
      "\r",
      "\u000b",
      "\f",
      "\n",
      "punctuation ==> !\"#$%&'()*+,-./:;<=>?@[\\]^_`{|}~\n",
      "whitespace ==>  \t\n",
      "\r",
      "\u000b",
      "\f",
      "\n"
     ]
    }
   ],
   "source": [
    "def is_str(value):\n",
    "    return isinstance(value, str)\n",
    "for name, value in inspect.getmembers(string, is_str):\n",
    "    if (name.startswith('_')): #Uncomment this to see the difference:\n",
    "        continue\n",
    "    print(f'{name} ==> {value}')\n",
    "    "
   ]
  },
  {
   "cell_type": "code",
   "execution_count": 5,
   "metadata": {},
   "outputs": [
    {
     "name": "stdout",
     "output_type": "stream",
     "text": [
      "Error:  'Greece'\n"
     ]
    }
   ],
   "source": [
    "try:\n",
    "    print('TEMPLATE: ', someString.substitute(values))\n",
    "except KeyError as err:\n",
    "    print(\"Error: \", str(err))"
   ]
  },
  {
   "cell_type": "code",
   "execution_count": 6,
   "metadata": {},
   "outputs": [],
   "source": [
    "def should_indent(line):\n",
    "    return (len(line.strip()) % 2 == 0)"
   ]
  },
  {
   "cell_type": "code",
   "execution_count": 7,
   "metadata": {},
   "outputs": [
    {
     "name": "stdout",
     "output_type": "stream",
     "text": [
      "TEMPLATE: ==>   The country of Kenya has the capital Nairobi\n",
      "while the  country of Uganda has the capital\n",
      "Kampala, while the capital of Ethiopia is Addis\n",
      "Ababa. Egypt's capital is Cairo but its ancient\n",
      "capital was Memphis. China's administrative\n",
      "capital is Beijing but the twin ancient capitals\n",
      "were ['Luoyang', 'Changan'] and ['Luoyang',\n",
      "'Changan']. The capital of Turkey is Istanbul\n",
      "while the capital of Greece is ${Greece}.\n",
      "\n",
      "\n",
      "Final Formatted text(with textwrap): \n",
      " The country of Kenya has the capital Nairobi while the  country of Uganda has the\n",
      "capital Kampala, while the capital of Ethiopia is Addis Ababa. Egypt's capital is\n",
      ">> Cairo but its ancient capital was Memphis. China's administrative capital is Beijing\n",
      "but the twin ancient capitals were ['Luoyang', 'Changan'] and ['Luoyang', 'Changan'].\n",
      "The capital of Turkey is Istanbul while the capital of Greece is ${Greece}.\n"
     ]
    }
   ],
   "source": [
    "print(\"TEMPLATE: ==> \", textwrap.fill(someString.safe_substitute(values), width=50))\n",
    "#Text will be left-justified\n",
    "print()\n",
    "print()\n",
    "dedented_text = textwrap.dedent(someString.safe_substitute(values))\n",
    "filled = textwrap.fill(dedented_text, width = 85)\n",
    "final = textwrap.indent(filled, '>> ',predicate=should_indent)\n",
    "print('Final Formatted text(with textwrap): ')\n",
    "print(final)"
   ]
  },
  {
   "cell_type": "code",
   "execution_count": 8,
   "metadata": {
    "scrolled": true
   },
   "outputs": [
    {
     "name": "stdout",
     "output_type": "stream",
     "text": [
      "Found \"pattern\" in the text:\n",
      "\"Looking for a pattern in this text! You won't find one.\"\n",
      "from index 14 to index 21.\n",
      "pattern\n",
      "\n",
      "Now using re.findall():\n",
      "Found match: \"pattern\" in the text:\n",
      "\"Looking for a pattern in this text! You won't find one.\"\n",
      "Found match: \"pattern\" in the text:\n",
      "\"Looking for a pattern in this text! You won't find one.\"\n",
      "\n",
      "Now using re.finditer():\n",
      "Found match: \"pattern\" in the text:\n",
      "\"Looking for a pattern in this text! You won't find one.\"\n",
      "Indices : 14 and 21\n",
      "Found match: \"pattern\" in the text:\n",
      "\"Looking for a pattern in this text! You won't find one.\"\n",
      "Indices : 61 and 68\n"
     ]
    }
   ],
   "source": [
    "pattern = \"None-existent\"\n",
    "pattern2 = \"pattern\"\n",
    "text = \"Looking for a pattern in this text! You won't find one.\"\n",
    "text2 = \"Looking for a pattern here. Well, you will definitely find a pattern.\"\n",
    "match = re.search(pattern2 , text2) #This returns a Match Object\n",
    "if (match == None):\n",
    "    print(\"Found no pattern here!\")\n",
    "else:\n",
    "    print(f\"Found \\\"{match.re.pattern}\\\" in the text:\\n\\\"{text}\\\"\\nfrom index {match.start()} to index {match.end()}.\")\n",
    "    print(f\"{text2[match.start() : match.end()]}\")\n",
    "\n",
    "print(\"\\nNow using re.findall():\")\n",
    "for match in re.findall(pattern2, text2):\n",
    "    if (match == None):\n",
    "        print(\"Found no pattern here!\")\n",
    "    else:\n",
    "        print(f\"Found match: \\\"{match}\\\" in the text:\\n\\\"{text}\\\"\")\n",
    "\n",
    "print(\"\\nNow using re.finditer():\")\n",
    "for match in re.finditer(pattern2, text2):\n",
    "    if (match == None):\n",
    "        print(\"Found no pattern here!\")\n",
    "    else:\n",
    "        print(f\"Found match: \\\"{match.re.pattern}\\\" in the text:\\n\\\"{text}\\\"\")\n",
    "        print(f\"Indices : {match.start()} and {match.end()}\")"
   ]
  },
  {
   "cell_type": "code",
   "execution_count": 9,
   "metadata": {},
   "outputs": [
    {
     "name": "stdout",
     "output_type": "stream",
     "text": [
      "Pattern: ['[a-z]+?', '[A-Z]+?', '\\\\S', '\\\\d', '[*&@#$%^()!~+]{1,}']\n",
      "RegexObject: [re.compile('[a-z]+?'), re.compile('[A-Z]+?'), re.compile('\\\\S'), re.compile('\\\\d'), re.compile('[*&@#$%^()!~+]{1,}')]\n",
      "Match found: Pattern '[a-z]+?' found in text:\n",
      "'IgnobleSurreptitiously1234^'\t => `g`\n",
      "Match found: Pattern '[a-z]+?' found in text:\n",
      "'IgnobleSurreptitiously1234^'\t => `n`\n",
      "Match found: Pattern '[a-z]+?' found in text:\n",
      "'IgnobleSurreptitiously1234^'\t => `o`\n",
      "Match found: Pattern '[a-z]+?' found in text:\n",
      "'IgnobleSurreptitiously1234^'\t => `b`\n",
      "Match found: Pattern '[a-z]+?' found in text:\n",
      "'IgnobleSurreptitiously1234^'\t => `l`\n",
      "Match found: Pattern '[a-z]+?' found in text:\n",
      "'IgnobleSurreptitiously1234^'\t => `e`\n",
      "Match found: Pattern '[a-z]+?' found in text:\n",
      "'IgnobleSurreptitiously1234^'\t => `u`\n",
      "Match found: Pattern '[a-z]+?' found in text:\n",
      "'IgnobleSurreptitiously1234^'\t => `r`\n",
      "Match found: Pattern '[a-z]+?' found in text:\n",
      "'IgnobleSurreptitiously1234^'\t => `r`\n",
      "Match found: Pattern '[a-z]+?' found in text:\n",
      "'IgnobleSurreptitiously1234^'\t => `e`\n",
      "Match found: Pattern '[a-z]+?' found in text:\n",
      "'IgnobleSurreptitiously1234^'\t => `p`\n",
      "Match found: Pattern '[a-z]+?' found in text:\n",
      "'IgnobleSurreptitiously1234^'\t => `t`\n",
      "Match found: Pattern '[a-z]+?' found in text:\n",
      "'IgnobleSurreptitiously1234^'\t => `i`\n",
      "Match found: Pattern '[a-z]+?' found in text:\n",
      "'IgnobleSurreptitiously1234^'\t => `t`\n",
      "Match found: Pattern '[a-z]+?' found in text:\n",
      "'IgnobleSurreptitiously1234^'\t => `i`\n",
      "Match found: Pattern '[a-z]+?' found in text:\n",
      "'IgnobleSurreptitiously1234^'\t => `o`\n",
      "Match found: Pattern '[a-z]+?' found in text:\n",
      "'IgnobleSurreptitiously1234^'\t => `u`\n",
      "Match found: Pattern '[a-z]+?' found in text:\n",
      "'IgnobleSurreptitiously1234^'\t => `s`\n",
      "Match found: Pattern '[a-z]+?' found in text:\n",
      "'IgnobleSurreptitiously1234^'\t => `l`\n",
      "Match found: Pattern '[a-z]+?' found in text:\n",
      "'IgnobleSurreptitiously1234^'\t => `y`\n",
      "Match found: Pattern '[A-Z]+?' found in text:\n",
      "'IgnobleSurreptitiously1234^'\t => `I`\n",
      "Match found: Pattern '[A-Z]+?' found in text:\n",
      "'IgnobleSurreptitiously1234^'\t => `S`\n",
      "Match found: Pattern '\\S' found in text:\n",
      "'IgnobleSurreptitiously1234^'\t => `I`\n",
      "Match found: Pattern '\\S' found in text:\n",
      "'IgnobleSurreptitiously1234^'\t => `g`\n",
      "Match found: Pattern '\\S' found in text:\n",
      "'IgnobleSurreptitiously1234^'\t => `n`\n",
      "Match found: Pattern '\\S' found in text:\n",
      "'IgnobleSurreptitiously1234^'\t => `o`\n",
      "Match found: Pattern '\\S' found in text:\n",
      "'IgnobleSurreptitiously1234^'\t => `b`\n",
      "Match found: Pattern '\\S' found in text:\n",
      "'IgnobleSurreptitiously1234^'\t => `l`\n",
      "Match found: Pattern '\\S' found in text:\n",
      "'IgnobleSurreptitiously1234^'\t => `e`\n",
      "Match found: Pattern '\\S' found in text:\n",
      "'IgnobleSurreptitiously1234^'\t => `S`\n",
      "Match found: Pattern '\\S' found in text:\n",
      "'IgnobleSurreptitiously1234^'\t => `u`\n",
      "Match found: Pattern '\\S' found in text:\n",
      "'IgnobleSurreptitiously1234^'\t => `r`\n",
      "Match found: Pattern '\\S' found in text:\n",
      "'IgnobleSurreptitiously1234^'\t => `r`\n",
      "Match found: Pattern '\\S' found in text:\n",
      "'IgnobleSurreptitiously1234^'\t => `e`\n",
      "Match found: Pattern '\\S' found in text:\n",
      "'IgnobleSurreptitiously1234^'\t => `p`\n",
      "Match found: Pattern '\\S' found in text:\n",
      "'IgnobleSurreptitiously1234^'\t => `t`\n",
      "Match found: Pattern '\\S' found in text:\n",
      "'IgnobleSurreptitiously1234^'\t => `i`\n",
      "Match found: Pattern '\\S' found in text:\n",
      "'IgnobleSurreptitiously1234^'\t => `t`\n",
      "Match found: Pattern '\\S' found in text:\n",
      "'IgnobleSurreptitiously1234^'\t => `i`\n",
      "Match found: Pattern '\\S' found in text:\n",
      "'IgnobleSurreptitiously1234^'\t => `o`\n",
      "Match found: Pattern '\\S' found in text:\n",
      "'IgnobleSurreptitiously1234^'\t => `u`\n",
      "Match found: Pattern '\\S' found in text:\n",
      "'IgnobleSurreptitiously1234^'\t => `s`\n",
      "Match found: Pattern '\\S' found in text:\n",
      "'IgnobleSurreptitiously1234^'\t => `l`\n",
      "Match found: Pattern '\\S' found in text:\n",
      "'IgnobleSurreptitiously1234^'\t => `y`\n",
      "Match found: Pattern '\\S' found in text:\n",
      "'IgnobleSurreptitiously1234^'\t => `1`\n",
      "Match found: Pattern '\\S' found in text:\n",
      "'IgnobleSurreptitiously1234^'\t => `2`\n",
      "Match found: Pattern '\\S' found in text:\n",
      "'IgnobleSurreptitiously1234^'\t => `3`\n",
      "Match found: Pattern '\\S' found in text:\n",
      "'IgnobleSurreptitiously1234^'\t => `4`\n",
      "Match found: Pattern '\\S' found in text:\n",
      "'IgnobleSurreptitiously1234^'\t => `^`\n",
      "Match found: Pattern '\\d' found in text:\n",
      "'IgnobleSurreptitiously1234^'\t => `1`\n",
      "Match found: Pattern '\\d' found in text:\n",
      "'IgnobleSurreptitiously1234^'\t => `2`\n",
      "Match found: Pattern '\\d' found in text:\n",
      "'IgnobleSurreptitiously1234^'\t => `3`\n",
      "Match found: Pattern '\\d' found in text:\n",
      "'IgnobleSurreptitiously1234^'\t => `4`\n",
      "Match found: Pattern '[*&@#$%^()!~+]{1,}' found in text:\n",
      "'IgnobleSurreptitiously1234^'\t => `^`\n"
     ]
    }
   ],
   "source": [
    "alphanumeric_password = \"IgnobleSurreptitiously1234^\"\n",
    "patterns_for_good_password = ['[a-z]+?','[A-Z]+?', r'\\S', r'\\d']\n",
    "special_characters = [r'[*&@#$%^()!~+]{1,}']\n",
    "patterns_for_good_password += special_characters\n",
    "print(f'Pattern: {patterns_for_good_password}')\n",
    "regexObjList = [re.compile(pattern) for pattern in patterns_for_good_password]\n",
    "print(f'RegexObject: {regexObjList}')\n",
    "for regex in regexObjList:\n",
    "    for match in regex.finditer(alphanumeric_password):\n",
    "        if (match == None):\n",
    "            print(\"Password failed our password policy.\\nReason: \")\n",
    "            if (match.re.pattern == '[a-z]+'):\n",
    "                print(\"lowercase letters needed in password.\")\n",
    "            elif (match.re.pattern) == '[A-Z]+':\n",
    "                print(\"Uppercase Letters needed in password.\")\n",
    "            elif (match.re.pattern == r'\\S'):\n",
    "                print(\"You can't have whitespace in your password.\")\n",
    "            elif (match.re.pattern == r'\\d'):\n",
    "                print(\"Digits/Numerals/Numbers are required in the password.\")\n",
    "            else:\n",
    "                print(\"No special characters present in your password.\", end = \" \")\n",
    "                print(\"It is a requirement to have at least three special characters for a good password.\")\n",
    "        else:\n",
    "            start = match.start()\n",
    "            end = match.end()\n",
    "            print(f\"Match found: Pattern '{match.re.pattern}' found in text:\\n'{alphanumeric_password}'\", end = '\\t')\n",
    "            print(f\" => `{alphanumeric_password[start : end]}`\")"
   ]
  },
  {
   "cell_type": "code",
   "execution_count": 10,
   "metadata": {
    "scrolled": true
   },
   "outputs": [
    {
     "name": "stdout",
     "output_type": "stream",
     "text": [
      "ajs => feywfeywfe kahskhak\n",
      "abba => abba stands for something\n"
     ]
    }
   ],
   "source": [
    "somePattern = [('ajs', 'feywfeywfe kahskhak'), ('abba','abba stands for something')]\n",
    "for pattern, desc in somePattern:\n",
    "    print(f\"{pattern} => {desc}\")"
   ]
  },
  {
   "cell_type": "code",
   "execution_count": 11,
   "metadata": {
    "scrolled": true
   },
   "outputs": [
    {
     "name": "stdout",
     "output_type": "stream",
     "text": [
      "\n",
      "Seeking the pattern (a+b*?) in our text: abbaabbba\n",
      "\n",
      "Match found: \"a+b*?\"\n",
      "in \"abbaabbba\"\n",
      "from index 0 to index 1 => a\n",
      "Match found: \"a+b*?\"\n",
      "in \"abbaabbba\"\n",
      "from index 3 to index 5 => aa\n",
      "Match found: \"a+b*?\"\n",
      "in \"abbaabbba\"\n",
      "from index 8 to index 9 => a\n",
      "\n",
      "Seeking the pattern (a{1,}b+?) in our text: abbaabbba\n",
      "\n",
      "Match found: \"a{1,}b+?\"\n",
      "in \"abbaabbba\"\n",
      "from index 0 to index 2 => ab\n",
      "Match found: \"a{1,}b+?\"\n",
      "in \"abbaabbba\"\n",
      "from index 3 to index 6 => aab\n"
     ]
    }
   ],
   "source": [
    "text = \"abbaabbba\"\n",
    "patterns = ['a+b*?', 'a{1,}b+?']\n",
    "regexes = [re.compile(pattern) for pattern in patterns]\n",
    "for regex in regexes:\n",
    "    print(f\"\\nSeeking the pattern ({regex.pattern}) in our text: {text}\\n\")\n",
    "    for match in regex.finditer(text):\n",
    "        if match == None:\n",
    "            print(\"No match found here.\")\n",
    "        else:\n",
    "            s = match.start()\n",
    "            e = match.end()\n",
    "            print(f'Match found: \"{match.re.pattern}\"\\nin \"{match.string}\"\\nfrom index {s} to index {e} => {text[s:e]}')\n",
    "        "
   ]
  },
  {
   "cell_type": "code",
   "execution_count": 12,
   "metadata": {
    "scrolled": true
   },
   "outputs": [
    {
     "name": "stdout",
     "output_type": "stream",
     "text": [
      "Match found: Pattern '</*\\w+>' found in\n",
      "<em>Hello World</em>\n",
      "from index 0 to index 4: => <em>\n",
      "Match found: Pattern '</*\\w+>' found in\n",
      "<em>Hello World</em>\n",
      "from index 15 to index 20: => </em>\n"
     ]
    }
   ],
   "source": [
    "html_text = \"<em>Hello World</em>\"\n",
    "html_pattern = r'</*\\w+>'\n",
    "regexObj = re.compile(html_pattern)\n",
    "for match in regexObj.finditer(html_text):\n",
    "    if (match == None):\n",
    "        print(\"No Match found!\")\n",
    "    else:\n",
    "        s = match.start()\n",
    "        e = match.end()\n",
    "        print(f\"Match found: Pattern '{match.re.pattern}' found in\\n{match.string}\")\n",
    "        print(f\"from index {s} to index {e}: => {html_text[s:e]}\")\n",
    "        "
   ]
  },
  {
   "cell_type": "code",
   "execution_count": 13,
   "metadata": {
    "scrolled": true
   },
   "outputs": [],
   "source": [
    "sampleText = 'This is some text -- with punctuation!'\n",
    "pattern1 = r'\\B\\w+\\B'\n",
    "regex1 = re.compile(pattern)\n",
    "for match in regex.finditer(sampleText):\n",
    "    if (match == None):\n",
    "        print(f\"No match found for pattern\")\n",
    "        #print(f\": {match.re.pattern}\")\n",
    "    else:\n",
    "        s = match.start()\n",
    "        e = match.end()\n",
    "        print(\"Match found for pattern \", end = \"\")\n",
    "        print(f\"{match.re.pattern}. ==> {sampleText[s:e]}\")"
   ]
  },
  {
   "cell_type": "code",
   "execution_count": 15,
   "metadata": {
    "scrolled": true
   },
   "outputs": [
    {
     "name": "stdout",
     "output_type": "stream",
     "text": [
      "Our text:  This is some text -- with punctuation!\n",
      "   ('some', ' punctuation', 'punctuation')\n"
     ]
    }
   ],
   "source": [
    "#********************************************#\n",
    "m = re.match(\"None\", sampleText)\n",
    "print(\"Match: \", m)\n",
    "\n",
    "s = re.search(\"This\", sampleText)\n",
    "print(f\"Search:  {s};\", end= \" \")\n",
    "print(f\"Pattern == '{s.re.pattern}'\")\n",
    "\n",
    "fullmatch = re.fullmatch(\"This\", sampleText)\n",
    "print(\"Fullmatch: \", fullmatch)\n",
    "#*******************************************#\n",
    "pattern2 = '([A-Z]+[a-z]+)+'\n",
    "regex2 = re.compile(pattern2)\n",
    "print(\"Our text: \", sampleText)\n",
    "for match in regex.finditer(sampleText):\n",
    "    if (match == None):\n",
    "        print(\"No match found for pattern : \", end=\"\")\n",
    "        print(match.re.pattern)\n",
    "    else:\n",
    "        print(f\"Match found: {sampleText[match.start() : match.end()]}\")\n",
    "pattern3 = r'(\\bs\\w+)(\\W+(\\w+))+'\n",
    "regex3 = re.compile(pattern3)\n",
    "for match in regex3.finditer(sampleText):\n",
    "    if (match == None):\n",
    "        print(\"No match found.\")\n",
    "    else:\n",
    "        print(\"  \", match.groups())"
   ]
  },
  {
   "cell_type": "code",
   "execution_count": 19,
   "metadata": {
    "scrolled": true
   },
   "outputs": [
    {
     "name": "stdout",
     "output_type": "stream",
     "text": [
      "Candidate: \n"
     ]
    },
    {
     "ename": "TypeError",
     "evalue": "'NoneType' object is not iterable",
     "output_type": "error",
     "traceback": [
      "\u001b[0;31m---------------------------------------------------------------------------\u001b[0m",
      "\u001b[0;31mTypeError\u001b[0m                                 Traceback (most recent call last)",
      "\u001b[0;32m<ipython-input-19-cb7aa2ea0290>\u001b[0m in \u001b[0;36m<module>\u001b[0;34m\u001b[0m\n\u001b[1;32m     25\u001b[0m \u001b[0;32mfor\u001b[0m \u001b[0mcandidate\u001b[0m \u001b[0;32min\u001b[0m \u001b[0mcandidates\u001b[0m\u001b[0;34m:\u001b[0m\u001b[0;34m\u001b[0m\u001b[0;34m\u001b[0m\u001b[0m\n\u001b[1;32m     26\u001b[0m     \u001b[0mprint\u001b[0m\u001b[0;34m(\u001b[0m\u001b[0;34m\"Candidate: \"\u001b[0m\u001b[0;34m.\u001b[0m\u001b[0mformat\u001b[0m\u001b[0;34m(\u001b[0m\u001b[0mcandidate\u001b[0m\u001b[0;34m)\u001b[0m\u001b[0;34m)\u001b[0m\u001b[0;34m\u001b[0m\u001b[0;34m\u001b[0m\u001b[0m\n\u001b[0;32m---> 27\u001b[0;31m     \u001b[0;32mfor\u001b[0m \u001b[0mmatch\u001b[0m \u001b[0;32min\u001b[0m \u001b[0mregex\u001b[0m\u001b[0;34m.\u001b[0m\u001b[0msearch\u001b[0m\u001b[0;34m(\u001b[0m\u001b[0mcandidate\u001b[0m\u001b[0;34m)\u001b[0m\u001b[0;34m:\u001b[0m\u001b[0;34m\u001b[0m\u001b[0;34m\u001b[0m\u001b[0m\n\u001b[0m\u001b[1;32m     28\u001b[0m         \u001b[0;32mif\u001b[0m \u001b[0;34m(\u001b[0m\u001b[0mmatch\u001b[0m \u001b[0;34m==\u001b[0m \u001b[0;32mNone\u001b[0m\u001b[0;34m)\u001b[0m\u001b[0;34m:\u001b[0m\u001b[0;34m\u001b[0m\u001b[0;34m\u001b[0m\u001b[0m\n\u001b[1;32m     29\u001b[0m             \u001b[0mprint\u001b[0m\u001b[0;34m(\u001b[0m\u001b[0;34m\"None\"\u001b[0m\u001b[0;34m)\u001b[0m\u001b[0;34m\u001b[0m\u001b[0;34m\u001b[0m\u001b[0m\n",
      "\u001b[0;31mTypeError\u001b[0m: 'NoneType' object is not iterable"
     ]
    }
   ],
   "source": [
    "email_pattern = \"\"\"\n",
    "# An address is supposed to be as follows: <username>@<domain-name>.<top level domain>\n",
    "# The username accepts alphanumeric values (ASCII/Unicode characters plus numerals)\n",
    "# as well as special characters like period (.), hyphen (-) and others like\n",
    "# !#$%&'*+/=?^_`{|}~\n",
    "# The usename/local part should not have a period at the beginning or the end of the username\n",
    "# and there should be no consecutive/adjacent periods.\n",
    "# The domain name can have uppercase or lowercase Latin letters (though often lowercase)\n",
    "# digits as well, and hyphen provided it isn't the first letter.\n",
    "(?P<username> [\\w\\d!#$%&'*+/=?^_`{|}~.-])                    # Username\n",
    "@                                                            # at symbol\n",
    "(?P<domain>[\\w\\d-]+)                                         # The domain name\n",
    "\\.\n",
    "(?P<top_level_domain>(com|edu|io|co\\.ke|co\\.uk|co\\.za))      # The top level domain\n",
    "\n",
    "\"\"\" \n",
    "regex = re.compile(pattern, re.VERBOSE)\n",
    "candidates = [\n",
    "    u'nicknjihia55@gmail.com',\n",
    "    u'nicholasnjihian@protonmail.com',\n",
    "    'nicholasnjihia89+35@jkuat.ac.ke',\n",
    "    'sean+parker42@yahoo.co.za'\n",
    "    'marcusaurelius.150ad.@gmail.co.uk'\n",
    "]\n",
    "for candidate in candidates:\n",
    "    print(\"Candidate: \".format(candidate))\n",
    "    for match in regex.search(candidate):\n",
    "        if (match == None):\n",
    "            print(\"None\")\n",
    "        else:\n",
    "            print(\"Match name :  \", match.groupdict()['username'], end = \"  \")\n",
    "            print(match.groupdict()['domain'], end = \" \")\n",
    "            print(match.groupdict()['top_level_domain'], end=\" \")\n",
    "            print(f\". Actual text: {candidate[match.start() : match.end()]}\")\n",
    "            "
   ]
  },
  {
   "cell_type": "code",
   "execution_count": 23,
   "metadata": {
    "scrolled": true
   },
   "outputs": [
    {
     "name": "stdout",
     "output_type": "stream",
     "text": [
      "<p> paragraph </p>\n"
     ]
    }
   ],
   "source": [
    "sampleText2 = \"<html> paragraph </html>\"\n",
    "regex = re.compile(r'<(?P<closing_tag>/*)(?P<tag>[a-z]+)>')\n",
    "print(regex.sub(r'<\\g<closing_tag>p>', sampleText2))"
   ]
  },
  {
   "cell_type": "code",
   "execution_count": 25,
   "metadata": {},
   "outputs": [
    {
     "name": "stdout",
     "output_type": "stream",
     "text": [
      "0 '\\nParagraph One'\n",
      "1 'Paragraph Two'\n",
      "2 'Paragraph Three'\n",
      "3 'Paragraph Four'\n",
      "4 'Paragraph Five'\n",
      "5 'Paragraph Six\\n'\n"
     ]
    }
   ],
   "source": [
    "text = \"\"\"\n",
    "Paragraph One\n",
    "\n",
    "Paragraph Two\n",
    "\n",
    "Paragraph Three\n",
    "\n",
    "\n",
    "Paragraph Four\n",
    "\n",
    "\n",
    "\n",
    "Paragraph Five\n",
    "\n",
    "Paragraph Six\n",
    "\"\"\"\n",
    "for num, paragraph in enumerate(re.split(r'\\n{2,}', text)):\n",
    "    print(num, repr(paragraph))"
   ]
  },
  {
   "cell_type": "code",
   "execution_count": 23,
   "metadata": {},
   "outputs": [
    {
     "name": "stdout",
     "output_type": "stream",
     "text": [
      "Match A ==  0\n",
      "Match B 8\n",
      "Size == \n",
      "i == 0; j == 8 and k == 7\n",
      " A[a:a + size] = 'abcdefg'\n",
      " B[b:b + size] = 'abcdefg'\n"
     ]
    }
   ],
   "source": [
    "A = \"abcdefg\"\n",
    "B = \"abcdef  abcdefgh\"\n",
    "s1 = difflib.SequenceMatcher(None, A, B)\n",
    "match1 = s1.find_longest_match(0, len(A), 0, len(B))\n",
    "print(\"Match A == \", match1.a)\n",
    "print(\"Match B\", match1.b)\n",
    "print(\"Size == \".format(match1.size))\n",
    "i, j, k = match1\n",
    "print(f\"i == {i}; j == {j} and k == {k}\")\n",
    "print(' A[a:a + size] = {!r}'.format(A[i:i + k]))\n",
    "print(' B[b:b + size] = {!r}'.format(B[j:j + k]))"
   ]
  }
 ],
 "metadata": {
  "kernelspec": {
   "display_name": "Python 3",
   "language": "python",
   "name": "python3"
  },
  "language_info": {
   "codemirror_mode": {
    "name": "ipython",
    "version": 3
   },
   "file_extension": ".py",
   "mimetype": "text/x-python",
   "name": "python",
   "nbconvert_exporter": "python",
   "pygments_lexer": "ipython3",
   "version": "3.8.5"
  }
 },
 "nbformat": 4,
 "nbformat_minor": 4
}
