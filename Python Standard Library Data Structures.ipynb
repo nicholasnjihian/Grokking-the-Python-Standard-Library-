{
 "cells": [
  {
   "cell_type": "code",
   "execution_count": 1,
   "metadata": {},
   "outputs": [],
   "source": [
    "import enum"
   ]
  },
  {
   "cell_type": "code",
   "execution_count": 17,
   "metadata": {},
   "outputs": [
    {
     "name": "stdout",
     "output_type": "stream",
     "text": [
      "Member name : INFO and Member value: 3\n",
      "ALL  \t\tDEBUG  \t\tINFO  \t\tWARN  \t\tERROR  \t\tFATAL  \t\tOFF  \n"
     ]
    }
   ],
   "source": [
    "@enum.unique\n",
    "class LoggingLevel(enum.Enum):\n",
    "    ALL = 1   #All levels including custom levels.\n",
    "    DEBUG = 2 # Designates fine-grained informational events \n",
    "              # that are most useful to debug an application.\n",
    "    INFO = 3  # Designates informational messages \n",
    "              # that highlight the progress of the application at coarse-grained level.\n",
    "    WARN = 4  # Designates potentially harmful situations.\n",
    "    ERROR = 5 # Designates error events \n",
    "              # that might still allow the application to continue running.\n",
    "    FATAL = 6 #Designates very severe error events \n",
    "              #that will presumably lead the application to abort.\n",
    "    OFF = 7   #The highest possible rank and is intended to turn off logging.\n",
    "    #TRACE = 2 #Uncommenting this line will result in an error due to the @unique decorator\n",
    "print('Member name : {} and Member value: {}'.format(LoggingLevel.INFO.name, \n",
    "                                                 LoggingLevel.INFO.value))\n",
    "print(('\\t\\t').join([loglevel.name + \"  \" for loglevel in LoggingLevel]))"
   ]
  }
 ],
 "metadata": {
  "kernelspec": {
   "display_name": "Python 3",
   "language": "python",
   "name": "python3"
  },
  "language_info": {
   "codemirror_mode": {
    "name": "ipython",
    "version": 3
   },
   "file_extension": ".py",
   "mimetype": "text/x-python",
   "name": "python",
   "nbconvert_exporter": "python",
   "pygments_lexer": "ipython3",
   "version": "3.8.5"
  }
 },
 "nbformat": 4,
 "nbformat_minor": 4
}
