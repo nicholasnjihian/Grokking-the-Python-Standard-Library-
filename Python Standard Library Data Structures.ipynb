{
 "cells": [
  {
   "cell_type": "markdown",
   "metadata": {},
   "source": [
    "The following cells show the working of common Python Standard Library containers\n",
    "such as those in the collections library. \n",
    "Various modules appear in the code."
   ]
  },
  {
   "cell_type": "code",
   "execution_count": 4,
   "metadata": {},
   "outputs": [],
   "source": [
    "import enum, collections"
   ]
  },
  {
   "cell_type": "code",
   "execution_count": 5,
   "metadata": {},
   "outputs": [
    {
     "name": "stdout",
     "output_type": "stream",
     "text": [
      "Member name : INFO and Member value: 3\n",
      "ALL  \t\tDEBUG  \t\tINFO  \t\tWARN  \t\tERROR  \t\tFATAL  \t\tOFF  \n"
     ]
    }
   ],
   "source": [
    "# The enum container module in collections\n",
    "@enum.unique\n",
    "class LoggingLevel(enum.Enum):\n",
    "    ALL = 1   #All levels including custom levels.\n",
    "    DEBUG = 2 # Designates fine-grained informational events \n",
    "              # that are most useful to debug an application.\n",
    "    INFO = 3  # Designates informational messages \n",
    "              # that highlight the progress of the application at coarse-grained level.\n",
    "    WARN = 4  # Designates potentially harmful situations.\n",
    "    ERROR = 5 # Designates error events \n",
    "              # that might still allow the application to continue running.\n",
    "    FATAL = 6 #Designates very severe error events \n",
    "              #that will presumably lead the application to abort.\n",
    "    OFF = 7   #The highest possible rank and is intended to turn off logging.\n",
    "    #TRACE = 2 #Uncommenting this line will result in an error due to the @unique decorator\n",
    "print('Member name : {} and Member value: {}'.format(LoggingLevel.INFO.name, \n",
    "                                                 LoggingLevel.INFO.value))\n",
    "print(('\\t\\t').join([loglevel.name + \"  \" for loglevel in LoggingLevel]))"
   ]
  },
  {
   "cell_type": "code",
   "execution_count": 6,
   "metadata": {
    "scrolled": true
   },
   "outputs": [
    {
     "name": "stdout",
     "output_type": "stream",
     "text": [
      "The Capitals are as follows:\n",
      "[{'Kenya': 'Nairobi', 'Vietnam': 'Ho Chi Minh', 'Japan': 'Tokyo', 'Tanzania': 'Dodoma', 'Roman Empire': 'Constantinople'}, {'Tanzania': 'Dar es Salaam', 'Mozambique': 'Maputo', 'Roman empire': 'Ravenna', 'China': 'Beijing', 'USA': 'Washington DC', 'South Sudan': 'Juba'}, {'China': \"Chang'an\", 'Roman Empire': 'Rome'}]\n",
      "\n",
      "\n",
      "The capital of China is Beijing\n"
     ]
    }
   ],
   "source": [
    "# The ChainMap container module in collections:\n",
    "a = {'Kenya': 'Nairobi', \n",
    "     'Vietnam':'Ho Chi Minh',\n",
    "     'Japan':'Tokyo',\n",
    "     'Tanzania':'Dodoma',\n",
    "      'Roman Empire':'Constantinople'}\n",
    "b = {'Tanzania':'Dar es Salaam',\n",
    "      'Mozambique':'Maputo',\n",
    "      'Roman empire':'Ravenna',\n",
    "      'China':'Beijing',\n",
    "      'USA':'Washington DC',\n",
    "      'South Sudan':'Juba'\n",
    "}\n",
    "c={\n",
    "    'China':'Chang\\'an',\n",
    "    'Roman Empire':'Rome'\n",
    "}\n",
    "\n",
    "capitals_of_countries = collections.ChainMap(a,b,c)\n",
    "print('The Capitals are as follows:\\n{}'.format(capitals_of_countries.maps))\n",
    "print('\\n\\nThe capital of China is {}'.format(capitals_of_countries[\"China\"]))"
   ]
  },
  {
   "cell_type": "code",
   "execution_count": 7,
   "metadata": {},
   "outputs": [
    {
     "name": "stdout",
     "output_type": "stream",
     "text": [
      "Counter({'mango': 5, 'banana': 2, 'water melon': 2, 'pineapple': 1})\n",
      "Counter({'mango': 6, 'water melon': 3, 'banana': 2, 'pineapple': 1, 'tangerine': 1})\n",
      "Counter({'mango': 18, 'banana': 8, 'water melon': 3, 'pineapple': 1, 'tangerine': 1})\n"
     ]
    }
   ],
   "source": [
    "# The Counter container module in collections\n",
    "fruits_eaten_in_week = [('mango',), ('mango', 'banana'),('mango',),('pineapple', 'mango'),\n",
    "                        ('mango', 'banana','water melon'),('water melon',)]\n",
    "fruits_eaten_in_week = [fruit for fruits in fruits_eaten_in_week for fruit in fruits]\n",
    "#print(f\"==>  {fruits_eaten_in_week}  <==\")\n",
    "fruits_counter = collections.Counter(fruits_eaten_in_week)\n",
    "print(fruits_counter)\n",
    "fruits_counter.update(['tangerine','water melon', 'mango'])\n",
    "print(fruits_counter)\n",
    "fruits_counter.update({'mango':12, 'banana': 6})\n",
    "print(fruits_counter)"
   ]
  },
  {
   "cell_type": "code",
   "execution_count": 10,
   "metadata": {
    "scrolled": false
   },
   "outputs": [
    {
     "name": "stdout",
     "output_type": "stream",
     "text": [
      "          Front 9           Back 0\n",
      "\n",
      "           Back 1\n",
      "          Front 8\n",
      "           Back 2\n",
      "          Front 7\n",
      "           Back 3\n",
      "          Front 6\n",
      "           Back 4\n",
      "          Front 5\n",
      "           Back done\n",
      "          Front done\n"
     ]
    }
   ],
   "source": [
    "#Deque container in collections library\n",
    "import threading, time\n",
    "\n",
    "battery_level =  collections.deque(range(10))\n",
    "\n",
    "def use_battery(use_location, nextUsage):\n",
    "    while True:\n",
    "        try:\n",
    "            next = nextUsage()\n",
    "        except IndexError:\n",
    "            break;\n",
    "        else:\n",
    "            print('{:>15} {}'.format(use_location, next))\n",
    "            time.sleep(0.45)\n",
    "    print('{:>15} done'.format(use_location))\n",
    "    return\n",
    "\n",
    "#Use battery from front\n",
    "front = threading.Thread(target=use_battery,\n",
    "                        args=('Front', battery_level.pop))\n",
    "back = threading.Thread(target=use_battery, args=(\"Back\", battery_level.popleft))\n",
    "front.start()\n",
    "back.start()\n",
    "front.join()\n",
    "front.join()"
   ]
  },
  {
   "cell_type": "code",
   "execution_count": 20,
   "metadata": {},
   "outputs": [
    {
     "name": "stdout",
     "output_type": "stream",
     "text": [
      "The capital of Kenya is Nairobi\n",
      "The capital of Germany is Berlin\n",
      "The capital of Italy is Rome\n",
      "The capital of Japan is Tokyo\n",
      "The capital of USA is Washington DC\n",
      "The capital of Vietnam is Ho Chi Minh\n",
      "The capital of China is Beijing\n",
      "The capital of Russia is Moscow\n",
      "The capital of South Africa is Johannesburg\n",
      "The capital of Brazil is Brasilia\n",
      "The capital of India is Delhi\n",
      "The capital of Iran is tehran\n",
      "\n",
      "\n",
      "Kenya representation in namedtuple: Country(name='Kenya', capital='Nairobi', population=53000000)\n",
      "Fields for our namedtuple: ('name', 'capital', 'population')\n",
      "Kenya has a population of 53000000 and its capital is Nairobi\n",
      "The country of Kenya with its capital as Nairobi has a population numbering 53000000\n",
      "The country of Japan with its capital as Tokyo has a population numbering 130000000\n",
      "The country of U.S.A. with its capital as Washington DC has a population numbering 330000000\n",
      "The country of Vietnam with its capital as Ho Chi Minh City has a population numbering 96500000\n",
      "The country of Germany with its capital as Berlin has a population numbering 83000000\n",
      "The country of Saudi Arabia with its capital as Riyadh has a population numbering 34000000\n",
      "The country of Uganda with its capital as Kampala has a population numbering 44270000\n",
      "The country of Malta with its capital as Valetta has a population numbering 502000\n",
      "The country of Phoenicia with its capital as Tyre has a population numbering None\n"
     ]
    }
   ],
   "source": [
    "#namedtuple container in collections library\n",
    "\n",
    "#Normal tuple:\n",
    "countries_and_capitalcities = [(\"Kenya\", \"Nairobi\"),(\"Germany\",\"Berlin\"),(\"Italy\",\"Rome\"),\n",
    "                               (\"Japan\",\"Tokyo\"),(\"USA\", \"Washington DC\"),\n",
    "                               (\"Vietnam\",\"Ho Chi Minh\"),(\"China\",\"Beijing\"),\n",
    "                               (\"Russia\", \"Moscow\"),(\"South Africa\", \"Johannesburg\"),\n",
    "                               (\"Brazil\",\"Brasilia\",\"Mexico\",\"Mexico City\"),\n",
    "                               (\"India\",\"Delhi\"),(\"Iran\",\"tehran\")]\n",
    "for p in countries_and_capitalcities:\n",
    "    print(\"The capital of {} is {}\".format(*p))\n",
    "\n",
    "#Now to use namedtuple container\n",
    "try:\n",
    "    Country = collections.namedtuple('Country', 'name capital population',\n",
    "                                      rename = False)\n",
    "except ValueError as err:\n",
    "    print(err)\n",
    "    \n",
    "kenya = Country(name = \"Kenya\", capital=\"Nairobi\", population=53000000)\n",
    "print(\"\\n\\nKenya representation in namedtuple: {}\".format(kenya))\n",
    "print(\"Fields for our namedtuple: {}\".format(kenya._fields))\n",
    "usa=Country(name=\"U.S.A.\", capital=\"Washington DC\", population=\"330000000\")\n",
    "japan=Country(name=\"Japan\", capital=\"Tokyo\", population=130000000)\n",
    "vietnam=Country(name='Vietnam', capital='Ho Chi Minh City', population=96500000)\n",
    "saudi_arabia = Country(name=\"Saudi Arabia\", capital = \"Riyadh\", population=34000000)\n",
    "uganda=Country(name=\"Uganda\", capital = \"Kampala\", population=44270000)\n",
    "malta = Country(name=\"Malta\", capital = \"Valetta\", population = \"502000\")\n",
    "phoenicia = Country(name=\"Phoenicia\", capital = \"Tyre\", population = None)\n",
    "germany = Country(name=\"Germany\", capital=\"Berlin\", population=83000000)\n",
    "print(f\"{kenya.name} has a population of {kenya.population} and its capital is {kenya.capital}\")\n",
    "\n",
    "for p in [kenya, japan, usa, vietnam, germany, saudi_arabia, uganda, malta, phoenicia]:\n",
    "    print(\"The country of {} with its capital as {} has a population numbering {}\".format(\n",
    "    *p))"
   ]
  }
 ],
 "metadata": {
  "kernelspec": {
   "display_name": "Python 3",
   "language": "python",
   "name": "python3"
  },
  "language_info": {
   "codemirror_mode": {
    "name": "ipython",
    "version": 3
   },
   "file_extension": ".py",
   "mimetype": "text/x-python",
   "name": "python",
   "nbconvert_exporter": "python",
   "pygments_lexer": "ipython3",
   "version": "3.8.5"
  }
 },
 "nbformat": 4,
 "nbformat_minor": 4
}
